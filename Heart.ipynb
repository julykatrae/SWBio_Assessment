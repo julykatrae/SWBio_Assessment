{
 "cells": [
  {
   "cell_type": "markdown",
   "id": "54b0ff84-4483-476b-8cae-f13a5798af11",
   "metadata": {},
   "source": [
    "# Import dataset and check data"
   ]
  },
  {
   "cell_type": "code",
   "execution_count": 9,
   "id": "0bbd3428-d93e-4d72-baba-1fbe2ce63f02",
   "metadata": {},
   "outputs": [
    {
     "data": {
      "text/html": [
       "<div>\n",
       "<style scoped>\n",
       "    .dataframe tbody tr th:only-of-type {\n",
       "        vertical-align: middle;\n",
       "    }\n",
       "\n",
       "    .dataframe tbody tr th {\n",
       "        vertical-align: top;\n",
       "    }\n",
       "\n",
       "    .dataframe thead th {\n",
       "        text-align: right;\n",
       "    }\n",
       "</style>\n",
       "<table border=\"1\" class=\"dataframe\">\n",
       "  <thead>\n",
       "    <tr style=\"text-align: right;\">\n",
       "      <th></th>\n",
       "      <th>Age</th>\n",
       "      <th>Sex</th>\n",
       "      <th>ChestPainType</th>\n",
       "      <th>RestingBP</th>\n",
       "      <th>Cholesterol</th>\n",
       "      <th>FastingBS</th>\n",
       "      <th>RestingECG</th>\n",
       "      <th>MaxHR</th>\n",
       "      <th>ExerciseAngina</th>\n",
       "      <th>Oldpeak</th>\n",
       "      <th>ST_Slope</th>\n",
       "      <th>HeartDisease</th>\n",
       "    </tr>\n",
       "  </thead>\n",
       "  <tbody>\n",
       "    <tr>\n",
       "      <th>0</th>\n",
       "      <td>40</td>\n",
       "      <td>M</td>\n",
       "      <td>ATA</td>\n",
       "      <td>140</td>\n",
       "      <td>289</td>\n",
       "      <td>0</td>\n",
       "      <td>Normal</td>\n",
       "      <td>172</td>\n",
       "      <td>N</td>\n",
       "      <td>0.0</td>\n",
       "      <td>Up</td>\n",
       "      <td>0</td>\n",
       "    </tr>\n",
       "    <tr>\n",
       "      <th>1</th>\n",
       "      <td>49</td>\n",
       "      <td>F</td>\n",
       "      <td>NAP</td>\n",
       "      <td>160</td>\n",
       "      <td>180</td>\n",
       "      <td>0</td>\n",
       "      <td>Normal</td>\n",
       "      <td>156</td>\n",
       "      <td>N</td>\n",
       "      <td>1.0</td>\n",
       "      <td>Flat</td>\n",
       "      <td>1</td>\n",
       "    </tr>\n",
       "    <tr>\n",
       "      <th>2</th>\n",
       "      <td>37</td>\n",
       "      <td>M</td>\n",
       "      <td>ATA</td>\n",
       "      <td>130</td>\n",
       "      <td>283</td>\n",
       "      <td>0</td>\n",
       "      <td>ST</td>\n",
       "      <td>98</td>\n",
       "      <td>N</td>\n",
       "      <td>0.0</td>\n",
       "      <td>Up</td>\n",
       "      <td>0</td>\n",
       "    </tr>\n",
       "    <tr>\n",
       "      <th>3</th>\n",
       "      <td>48</td>\n",
       "      <td>F</td>\n",
       "      <td>ASY</td>\n",
       "      <td>138</td>\n",
       "      <td>214</td>\n",
       "      <td>0</td>\n",
       "      <td>Normal</td>\n",
       "      <td>108</td>\n",
       "      <td>Y</td>\n",
       "      <td>1.5</td>\n",
       "      <td>Flat</td>\n",
       "      <td>1</td>\n",
       "    </tr>\n",
       "    <tr>\n",
       "      <th>4</th>\n",
       "      <td>54</td>\n",
       "      <td>M</td>\n",
       "      <td>NAP</td>\n",
       "      <td>150</td>\n",
       "      <td>195</td>\n",
       "      <td>0</td>\n",
       "      <td>Normal</td>\n",
       "      <td>122</td>\n",
       "      <td>N</td>\n",
       "      <td>0.0</td>\n",
       "      <td>Up</td>\n",
       "      <td>0</td>\n",
       "    </tr>\n",
       "    <tr>\n",
       "      <th>...</th>\n",
       "      <td>...</td>\n",
       "      <td>...</td>\n",
       "      <td>...</td>\n",
       "      <td>...</td>\n",
       "      <td>...</td>\n",
       "      <td>...</td>\n",
       "      <td>...</td>\n",
       "      <td>...</td>\n",
       "      <td>...</td>\n",
       "      <td>...</td>\n",
       "      <td>...</td>\n",
       "      <td>...</td>\n",
       "    </tr>\n",
       "    <tr>\n",
       "      <th>913</th>\n",
       "      <td>45</td>\n",
       "      <td>M</td>\n",
       "      <td>TA</td>\n",
       "      <td>110</td>\n",
       "      <td>264</td>\n",
       "      <td>0</td>\n",
       "      <td>Normal</td>\n",
       "      <td>132</td>\n",
       "      <td>N</td>\n",
       "      <td>1.2</td>\n",
       "      <td>Flat</td>\n",
       "      <td>1</td>\n",
       "    </tr>\n",
       "    <tr>\n",
       "      <th>914</th>\n",
       "      <td>68</td>\n",
       "      <td>M</td>\n",
       "      <td>ASY</td>\n",
       "      <td>144</td>\n",
       "      <td>193</td>\n",
       "      <td>1</td>\n",
       "      <td>Normal</td>\n",
       "      <td>141</td>\n",
       "      <td>N</td>\n",
       "      <td>3.4</td>\n",
       "      <td>Flat</td>\n",
       "      <td>1</td>\n",
       "    </tr>\n",
       "    <tr>\n",
       "      <th>915</th>\n",
       "      <td>57</td>\n",
       "      <td>M</td>\n",
       "      <td>ASY</td>\n",
       "      <td>130</td>\n",
       "      <td>131</td>\n",
       "      <td>0</td>\n",
       "      <td>Normal</td>\n",
       "      <td>115</td>\n",
       "      <td>Y</td>\n",
       "      <td>1.2</td>\n",
       "      <td>Flat</td>\n",
       "      <td>1</td>\n",
       "    </tr>\n",
       "    <tr>\n",
       "      <th>916</th>\n",
       "      <td>57</td>\n",
       "      <td>F</td>\n",
       "      <td>ATA</td>\n",
       "      <td>130</td>\n",
       "      <td>236</td>\n",
       "      <td>0</td>\n",
       "      <td>LVH</td>\n",
       "      <td>174</td>\n",
       "      <td>N</td>\n",
       "      <td>0.0</td>\n",
       "      <td>Flat</td>\n",
       "      <td>1</td>\n",
       "    </tr>\n",
       "    <tr>\n",
       "      <th>917</th>\n",
       "      <td>38</td>\n",
       "      <td>M</td>\n",
       "      <td>NAP</td>\n",
       "      <td>138</td>\n",
       "      <td>175</td>\n",
       "      <td>0</td>\n",
       "      <td>Normal</td>\n",
       "      <td>173</td>\n",
       "      <td>N</td>\n",
       "      <td>0.0</td>\n",
       "      <td>Up</td>\n",
       "      <td>0</td>\n",
       "    </tr>\n",
       "  </tbody>\n",
       "</table>\n",
       "<p>918 rows × 12 columns</p>\n",
       "</div>"
      ],
      "text/plain": [
       "     Age Sex ChestPainType  RestingBP  Cholesterol  FastingBS RestingECG  \\\n",
       "0     40   M           ATA        140          289          0     Normal   \n",
       "1     49   F           NAP        160          180          0     Normal   \n",
       "2     37   M           ATA        130          283          0         ST   \n",
       "3     48   F           ASY        138          214          0     Normal   \n",
       "4     54   M           NAP        150          195          0     Normal   \n",
       "..   ...  ..           ...        ...          ...        ...        ...   \n",
       "913   45   M            TA        110          264          0     Normal   \n",
       "914   68   M           ASY        144          193          1     Normal   \n",
       "915   57   M           ASY        130          131          0     Normal   \n",
       "916   57   F           ATA        130          236          0        LVH   \n",
       "917   38   M           NAP        138          175          0     Normal   \n",
       "\n",
       "     MaxHR ExerciseAngina  Oldpeak ST_Slope  HeartDisease  \n",
       "0      172              N      0.0       Up             0  \n",
       "1      156              N      1.0     Flat             1  \n",
       "2       98              N      0.0       Up             0  \n",
       "3      108              Y      1.5     Flat             1  \n",
       "4      122              N      0.0       Up             0  \n",
       "..     ...            ...      ...      ...           ...  \n",
       "913    132              N      1.2     Flat             1  \n",
       "914    141              N      3.4     Flat             1  \n",
       "915    115              Y      1.2     Flat             1  \n",
       "916    174              N      0.0     Flat             1  \n",
       "917    173              N      0.0       Up             0  \n",
       "\n",
       "[918 rows x 12 columns]"
      ]
     },
     "execution_count": 9,
     "metadata": {},
     "output_type": "execute_result"
    }
   ],
   "source": [
    "import pandas as pd\n",
    "mydata = pd.read_csv(\"heart.csv\")\n",
    "mydata"
   ]
  },
  {
   "cell_type": "markdown",
   "id": "c2a03a72-6bb0-4af2-ab86-9f6ce9272b2f",
   "metadata": {},
   "source": [
    "# Check for null values in the data set "
   ]
  },
  {
   "cell_type": "code",
   "execution_count": 10,
   "id": "12001939-18fc-4388-b60a-e48861d37d45",
   "metadata": {},
   "outputs": [
    {
     "data": {
      "text/plain": [
       "Age               0\n",
       "Sex               0\n",
       "ChestPainType     0\n",
       "RestingBP         0\n",
       "Cholesterol       0\n",
       "FastingBS         0\n",
       "RestingECG        0\n",
       "MaxHR             0\n",
       "ExerciseAngina    0\n",
       "Oldpeak           0\n",
       "ST_Slope          0\n",
       "HeartDisease      0\n",
       "dtype: int64"
      ]
     },
     "execution_count": 10,
     "metadata": {},
     "output_type": "execute_result"
    }
   ],
   "source": [
    "mydata.isna().sum()"
   ]
  },
  {
   "cell_type": "markdown",
   "id": "09701689-d354-442e-b237-6e302bf4b8eb",
   "metadata": {},
   "source": [
    "# Check correlations of numerical variables"
   ]
  },
  {
   "cell_type": "code",
   "execution_count": 11,
   "id": "390e005b-802c-483f-9a86-8dc5b07e93de",
   "metadata": {},
   "outputs": [
    {
     "data": {
      "text/html": [
       "<div>\n",
       "<style scoped>\n",
       "    .dataframe tbody tr th:only-of-type {\n",
       "        vertical-align: middle;\n",
       "    }\n",
       "\n",
       "    .dataframe tbody tr th {\n",
       "        vertical-align: top;\n",
       "    }\n",
       "\n",
       "    .dataframe thead th {\n",
       "        text-align: right;\n",
       "    }\n",
       "</style>\n",
       "<table border=\"1\" class=\"dataframe\">\n",
       "  <thead>\n",
       "    <tr style=\"text-align: right;\">\n",
       "      <th></th>\n",
       "      <th>Age</th>\n",
       "      <th>RestingBP</th>\n",
       "      <th>Cholesterol</th>\n",
       "      <th>FastingBS</th>\n",
       "      <th>MaxHR</th>\n",
       "      <th>Oldpeak</th>\n",
       "      <th>HeartDisease</th>\n",
       "    </tr>\n",
       "  </thead>\n",
       "  <tbody>\n",
       "    <tr>\n",
       "      <th>Age</th>\n",
       "      <td>1.000000</td>\n",
       "      <td>0.254399</td>\n",
       "      <td>-0.095282</td>\n",
       "      <td>0.198039</td>\n",
       "      <td>-0.382045</td>\n",
       "      <td>0.258612</td>\n",
       "      <td>0.282039</td>\n",
       "    </tr>\n",
       "    <tr>\n",
       "      <th>RestingBP</th>\n",
       "      <td>0.254399</td>\n",
       "      <td>1.000000</td>\n",
       "      <td>0.100893</td>\n",
       "      <td>0.070193</td>\n",
       "      <td>-0.112135</td>\n",
       "      <td>0.164803</td>\n",
       "      <td>0.107589</td>\n",
       "    </tr>\n",
       "    <tr>\n",
       "      <th>Cholesterol</th>\n",
       "      <td>-0.095282</td>\n",
       "      <td>0.100893</td>\n",
       "      <td>1.000000</td>\n",
       "      <td>-0.260974</td>\n",
       "      <td>0.235792</td>\n",
       "      <td>0.050148</td>\n",
       "      <td>-0.232741</td>\n",
       "    </tr>\n",
       "    <tr>\n",
       "      <th>FastingBS</th>\n",
       "      <td>0.198039</td>\n",
       "      <td>0.070193</td>\n",
       "      <td>-0.260974</td>\n",
       "      <td>1.000000</td>\n",
       "      <td>-0.131438</td>\n",
       "      <td>0.052698</td>\n",
       "      <td>0.267291</td>\n",
       "    </tr>\n",
       "    <tr>\n",
       "      <th>MaxHR</th>\n",
       "      <td>-0.382045</td>\n",
       "      <td>-0.112135</td>\n",
       "      <td>0.235792</td>\n",
       "      <td>-0.131438</td>\n",
       "      <td>1.000000</td>\n",
       "      <td>-0.160691</td>\n",
       "      <td>-0.400421</td>\n",
       "    </tr>\n",
       "    <tr>\n",
       "      <th>Oldpeak</th>\n",
       "      <td>0.258612</td>\n",
       "      <td>0.164803</td>\n",
       "      <td>0.050148</td>\n",
       "      <td>0.052698</td>\n",
       "      <td>-0.160691</td>\n",
       "      <td>1.000000</td>\n",
       "      <td>0.403951</td>\n",
       "    </tr>\n",
       "    <tr>\n",
       "      <th>HeartDisease</th>\n",
       "      <td>0.282039</td>\n",
       "      <td>0.107589</td>\n",
       "      <td>-0.232741</td>\n",
       "      <td>0.267291</td>\n",
       "      <td>-0.400421</td>\n",
       "      <td>0.403951</td>\n",
       "      <td>1.000000</td>\n",
       "    </tr>\n",
       "  </tbody>\n",
       "</table>\n",
       "</div>"
      ],
      "text/plain": [
       "                   Age  RestingBP  Cholesterol  FastingBS     MaxHR   Oldpeak  \\\n",
       "Age           1.000000   0.254399    -0.095282   0.198039 -0.382045  0.258612   \n",
       "RestingBP     0.254399   1.000000     0.100893   0.070193 -0.112135  0.164803   \n",
       "Cholesterol  -0.095282   0.100893     1.000000  -0.260974  0.235792  0.050148   \n",
       "FastingBS     0.198039   0.070193    -0.260974   1.000000 -0.131438  0.052698   \n",
       "MaxHR        -0.382045  -0.112135     0.235792  -0.131438  1.000000 -0.160691   \n",
       "Oldpeak       0.258612   0.164803     0.050148   0.052698 -0.160691  1.000000   \n",
       "HeartDisease  0.282039   0.107589    -0.232741   0.267291 -0.400421  0.403951   \n",
       "\n",
       "              HeartDisease  \n",
       "Age               0.282039  \n",
       "RestingBP         0.107589  \n",
       "Cholesterol      -0.232741  \n",
       "FastingBS         0.267291  \n",
       "MaxHR            -0.400421  \n",
       "Oldpeak           0.403951  \n",
       "HeartDisease      1.000000  "
      ]
     },
     "execution_count": 11,
     "metadata": {},
     "output_type": "execute_result"
    }
   ],
   "source": [
    "corr = mydata.corr()\n",
    "corr"
   ]
  },
  {
   "cell_type": "markdown",
   "id": "ad08b52b-dae1-405d-b0c4-c08f5fbd2d34",
   "metadata": {},
   "source": [
    "# Import libraries to plot graphs"
   ]
  },
  {
   "cell_type": "code",
   "execution_count": 12,
   "id": "c55cd523-6fe4-4ab3-a8f0-ebe541838788",
   "metadata": {},
   "outputs": [],
   "source": [
    "import seaborn as sns\n",
    "import matplotlib.pyplot as plt"
   ]
  },
  {
   "cell_type": "markdown",
   "id": "055e5383-1d38-4598-b8e3-0fef6b6a343f",
   "metadata": {},
   "source": [
    "# Graph to compare the incidence of Heart Disease by Sex "
   ]
  },
  {
   "cell_type": "code",
   "execution_count": 13,
   "id": "65a56c02-8d77-44b1-83fb-0c88a7cfe8b4",
   "metadata": {},
   "outputs": [
    {
     "name": "stderr",
     "output_type": "stream",
     "text": [
      "C:\\Users\\rr452\\Anaconda3\\lib\\site-packages\\seaborn\\_decorators.py:36: FutureWarning: Pass the following variable as a keyword arg: x. From version 0.12, the only valid positional argument will be `data`, and passing other arguments without an explicit keyword will result in an error or misinterpretation.\n",
      "  warnings.warn(\n"
     ]
    },
    {
     "data": {
      "text/plain": [
       "<AxesSubplot:xlabel='Sex', ylabel='count'>"
      ]
     },
     "execution_count": 13,
     "metadata": {},
     "output_type": "execute_result"
    },
    {
     "data": {
      "image/png": "[encoded data removed]",
      "text/plain": [
       "<Figure size 432x288 with 1 Axes>"
      ]
     },
     "metadata": {
      "needs_background": "light"
     },
     "output_type": "display_data"
    }
   ],
   "source": [
    "sns.countplot(mydata[\"Sex\"],hue=mydata[\"HeartDisease\"])"
   ]
  },
  {
   "cell_type": "markdown",
   "id": "1a185ee7-1c8e-486f-b2ca-62481606b836",
   "metadata": {},
   "source": [
    "# Graph to compare the incidence of Heart Disease by Chest Pain Type "
   ]
  },
  {
   "cell_type": "code",
   "execution_count": 14,
   "id": "a6bd2c06-0c58-4913-b4bf-b0c7edf1a189",
   "metadata": {},
   "outputs": [
    {
     "name": "stderr",
     "output_type": "stream",
     "text": [
      "C:\\Users\\rr452\\Anaconda3\\lib\\site-packages\\seaborn\\_decorators.py:36: FutureWarning: Pass the following variable as a keyword arg: x. From version 0.12, the only valid positional argument will be `data`, and passing other arguments without an explicit keyword will result in an error or misinterpretation.\n",
      "  warnings.warn(\n"
     ]
    },
    {
     "data": {
      "text/plain": [
       "<AxesSubplot:xlabel='ChestPainType', ylabel='count'>"
      ]
     },
     "execution_count": 14,
     "metadata": {},
     "output_type": "execute_result"
    },
    {
     "data": {
      "image/png": "[encoded data removed]",
      "text/plain": [
       "<Figure size 432x288 with 1 Axes>"
      ]
     },
     "metadata": {
      "needs_background": "light"
     },
     "output_type": "display_data"
    }
   ],
   "source": [
    "sns.countplot(mydata[\"ChestPainType\"],hue=mydata[\"HeartDisease\"])"
   ]
  },
  {
   "cell_type": "markdown",
   "id": "1d1ef03a-bd18-4e9b-a26b-ee54dc22ea70",
   "metadata": {},
   "source": [
    "# Graph to compare the incidence of Heart Disease by presence / absence of Exercise induced Angina "
   ]
  },
  {
   "cell_type": "code",
   "execution_count": 15,
   "id": "59ab46c1-50ea-4fc7-bff2-e9543bea7e54",
   "metadata": {},
   "outputs": [
    {
     "name": "stderr",
     "output_type": "stream",
     "text": [
      "C:\\Users\\rr452\\Anaconda3\\lib\\site-packages\\seaborn\\_decorators.py:36: FutureWarning: Pass the following variable as a keyword arg: x. From version 0.12, the only valid positional argument will be `data`, and passing other arguments without an explicit keyword will result in an error or misinterpretation.\n",
      "  warnings.warn(\n"
     ]
    },
    {
     "data": {
      "text/plain": [
       "<AxesSubplot:xlabel='ExerciseAngina', ylabel='count'>"
      ]
     },
     "execution_count": 15,
     "metadata": {},
     "output_type": "execute_result"
    },
    {
     "data": {
      "image/png": "[encoded data removed]",
      "text/plain": [
       "<Figure size 432x288 with 1 Axes>"
      ]
     },
     "metadata": {
      "needs_background": "light"
     },
     "output_type": "display_data"
    }
   ],
   "source": [
    "sns.countplot(mydata[\"ExerciseAngina\"],hue=mydata[\"HeartDisease\"])"
   ]
  },
  {
   "cell_type": "markdown",
   "id": "d007c609-8572-44f0-838f-ca7454447a13",
   "metadata": {},
   "source": [
    "# Graph to compare the incidence of Heart Disease by Resting ECG classification"
   ]
  },
  {
   "cell_type": "code",
   "execution_count": 16,
   "id": "347be06e-c961-4023-8637-ce7f69d0df77",
   "metadata": {},
   "outputs": [
    {
     "name": "stderr",
     "output_type": "stream",
     "text": [
      "C:\\Users\\rr452\\Anaconda3\\lib\\site-packages\\seaborn\\_decorators.py:36: FutureWarning: Pass the following variable as a keyword arg: x. From version 0.12, the only valid positional argument will be `data`, and passing other arguments without an explicit keyword will result in an error or misinterpretation.\n",
      "  warnings.warn(\n"
     ]
    },
    {
     "data": {
      "text/plain": [
       "<AxesSubplot:xlabel='RestingECG', ylabel='count'>"
      ]
     },
     "execution_count": 16,
     "metadata": {},
     "output_type": "execute_result"
    },
    {
     "data": {
      "image/png": "[encoded data removed]",
      "text/plain": [
       "<Figure size 432x288 with 1 Axes>"
      ]
     },
     "metadata": {
      "needs_background": "light"
     },
     "output_type": "display_data"
    }
   ],
   "source": [
    "sns.countplot(mydata[\"RestingECG\"],hue=mydata[\"HeartDisease\"])"
   ]
  },
  {
   "cell_type": "markdown",
   "id": "dde5758d-a02c-4d1c-861a-9a82d8725128",
   "metadata": {},
   "source": [
    "# Graph to compare the incidence of Heart Disease by the slope of the peak ST segment "
   ]
  },
  {
   "cell_type": "code",
   "execution_count": 17,
   "id": "5fcd4d56-836a-4571-ab89-91da4e2f66be",
   "metadata": {},
   "outputs": [
    {
     "name": "stderr",
     "output_type": "stream",
     "text": [
      "C:\\Users\\rr452\\Anaconda3\\lib\\site-packages\\seaborn\\_decorators.py:36: FutureWarning: Pass the following variable as a keyword arg: x. From version 0.12, the only valid positional argument will be `data`, and passing other arguments without an explicit keyword will result in an error or misinterpretation.\n",
      "  warnings.warn(\n"
     ]
    },
    {
     "data": {
      "text/plain": [
       "<AxesSubplot:xlabel='ST_Slope', ylabel='count'>"
      ]
     },
     "execution_count": 17,
     "metadata": {},
     "output_type": "execute_result"
    },
    {
     "data": {
      "image/png": "[encoded data removed]",
      "text/plain": [
       "<Figure size 432x288 with 1 Axes>"
      ]
     },
     "metadata": {
      "needs_background": "light"
     },
     "output_type": "display_data"
    }
   ],
   "source": [
    "sns.countplot(mydata[\"ST_Slope\"],hue=mydata[\"HeartDisease\"])"
   ]
  },
  {
   "cell_type": "markdown",
   "id": "af4f9b68-def9-484d-a944-cb8777db0e27",
   "metadata": {},
   "source": [
    "# Converting categorical variables into numberical values for analysis"
   ]
  },
  {
   "cell_type": "code",
   "execution_count": 19,
   "id": "573b4b07-e5b6-42fa-b983-6fcd3e12bfcc",
   "metadata": {},
   "outputs": [],
   "source": [
    "mydata['Sex'] = mydata['Sex'].map({\n",
    "    \"M\": 1,\n",
    "    \"F\": 0,\n",
    "})\n",
    "\n",
    "mydata['ChestPainType'] = mydata['ChestPainType'].map({\n",
    "    \"TA\": 1,\n",
    "    \"ATA\": 2,\n",
    "    \"NAP\": 3,\n",
    "    \"ASY\": 4,\n",
    "})\n",
    "\n",
    "mydata['RestingECG'] = mydata['RestingECG'].map({\n",
    "    \"Normal\": 1,\n",
    "    \"ST\": 2,\n",
    "    \"LVH\": 3,\n",
    "    })\n",
    "\n",
    "mydata['ExerciseAngina'] = mydata['ExerciseAngina'].map({\n",
    "    \"Y\": 1,\n",
    "    \"N\": 0,\n",
    "})\n",
    "\n",
    "mydata['ST_Slope'] = mydata['ST_Slope'].map({\n",
    "    \"Up\": 1,\n",
    "    \"Flat\": 0,\n",
    "    \"Down\": 2,\n",
    "})"
   ]
  },
  {
   "cell_type": "code",
   "execution_count": 21,
   "id": "f972209d-3bff-48ca-a65f-f9c09044b1bc",
   "metadata": {},
   "outputs": [
    {
     "data": {
      "text/html": [
       "<div>\n",
       "<style scoped>\n",
       "    .dataframe tbody tr th:only-of-type {\n",
       "        vertical-align: middle;\n",
       "    }\n",
       "\n",
       "    .dataframe tbody tr th {\n",
       "        vertical-align: top;\n",
       "    }\n",
       "\n",
       "    .dataframe thead th {\n",
       "        text-align: right;\n",
       "    }\n",
       "</style>\n",
       "<table border=\"1\" class=\"dataframe\">\n",
       "  <thead>\n",
       "    <tr style=\"text-align: right;\">\n",
       "      <th></th>\n",
       "      <th>Age</th>\n",
       "      <th>Sex</th>\n",
       "      <th>ChestPainType</th>\n",
       "      <th>RestingBP</th>\n",
       "      <th>Cholesterol</th>\n",
       "      <th>FastingBS</th>\n",
       "      <th>RestingECG</th>\n",
       "      <th>MaxHR</th>\n",
       "      <th>ExerciseAngina</th>\n",
       "      <th>Oldpeak</th>\n",
       "      <th>ST_Slope</th>\n",
       "      <th>HeartDisease</th>\n",
       "    </tr>\n",
       "  </thead>\n",
       "  <tbody>\n",
       "    <tr>\n",
       "      <th>0</th>\n",
       "      <td>40</td>\n",
       "      <td>1</td>\n",
       "      <td>2</td>\n",
       "      <td>140</td>\n",
       "      <td>289</td>\n",
       "      <td>0</td>\n",
       "      <td>1</td>\n",
       "      <td>172</td>\n",
       "      <td>0</td>\n",
       "      <td>0.0</td>\n",
       "      <td>1</td>\n",
       "      <td>0</td>\n",
       "    </tr>\n",
       "    <tr>\n",
       "      <th>1</th>\n",
       "      <td>49</td>\n",
       "      <td>0</td>\n",
       "      <td>3</td>\n",
       "      <td>160</td>\n",
       "      <td>180</td>\n",
       "      <td>0</td>\n",
       "      <td>1</td>\n",
       "      <td>156</td>\n",
       "      <td>0</td>\n",
       "      <td>1.0</td>\n",
       "      <td>0</td>\n",
       "      <td>1</td>\n",
       "    </tr>\n",
       "    <tr>\n",
       "      <th>2</th>\n",
       "      <td>37</td>\n",
       "      <td>1</td>\n",
       "      <td>2</td>\n",
       "      <td>130</td>\n",
       "      <td>283</td>\n",
       "      <td>0</td>\n",
       "      <td>2</td>\n",
       "      <td>98</td>\n",
       "      <td>0</td>\n",
       "      <td>0.0</td>\n",
       "      <td>1</td>\n",
       "      <td>0</td>\n",
       "    </tr>\n",
       "    <tr>\n",
       "      <th>3</th>\n",
       "      <td>48</td>\n",
       "      <td>0</td>\n",
       "      <td>4</td>\n",
       "      <td>138</td>\n",
       "      <td>214</td>\n",
       "      <td>0</td>\n",
       "      <td>1</td>\n",
       "      <td>108</td>\n",
       "      <td>1</td>\n",
       "      <td>1.5</td>\n",
       "      <td>0</td>\n",
       "      <td>1</td>\n",
       "    </tr>\n",
       "    <tr>\n",
       "      <th>4</th>\n",
       "      <td>54</td>\n",
       "      <td>1</td>\n",
       "      <td>3</td>\n",
       "      <td>150</td>\n",
       "      <td>195</td>\n",
       "      <td>0</td>\n",
       "      <td>1</td>\n",
       "      <td>122</td>\n",
       "      <td>0</td>\n",
       "      <td>0.0</td>\n",
       "      <td>1</td>\n",
       "      <td>0</td>\n",
       "    </tr>\n",
       "  </tbody>\n",
       "</table>\n",
       "</div>"
      ],
      "text/plain": [
       "   Age  Sex  ChestPainType  RestingBP  Cholesterol  FastingBS  RestingECG  \\\n",
       "0   40    1              2        140          289          0           1   \n",
       "1   49    0              3        160          180          0           1   \n",
       "2   37    1              2        130          283          0           2   \n",
       "3   48    0              4        138          214          0           1   \n",
       "4   54    1              3        150          195          0           1   \n",
       "\n",
       "   MaxHR  ExerciseAngina  Oldpeak  ST_Slope  HeartDisease  \n",
       "0    172               0      0.0         1             0  \n",
       "1    156               0      1.0         0             1  \n",
       "2     98               0      0.0         1             0  \n",
       "3    108               1      1.5         0             1  \n",
       "4    122               0      0.0         1             0  "
      ]
     },
     "execution_count": 21,
     "metadata": {},
     "output_type": "execute_result"
    }
   ],
   "source": [
    "mydata.head()"
   ]
  },
  {
   "cell_type": "markdown",
   "id": "2ddcf5b2-45c2-4075-a4a7-a7a566d200e9",
   "metadata": {},
   "source": [
    "# Checking correlations of all variables"
   ]
  },
  {
   "cell_type": "code",
   "execution_count": 23,
   "id": "8708fb51-733a-4d3f-98ba-d4ace2d023d3",
   "metadata": {},
   "outputs": [
    {
     "data": {
      "text/html": [
       "<div>\n",
       "<style scoped>\n",
       "    .dataframe tbody tr th:only-of-type {\n",
       "        vertical-align: middle;\n",
       "    }\n",
       "\n",
       "    .dataframe tbody tr th {\n",
       "        vertical-align: top;\n",
       "    }\n",
       "\n",
       "    .dataframe thead th {\n",
       "        text-align: right;\n",
       "    }\n",
       "</style>\n",
       "<table border=\"1\" class=\"dataframe\">\n",
       "  <thead>\n",
       "    <tr style=\"text-align: right;\">\n",
       "      <th></th>\n",
       "      <th>Age</th>\n",
       "      <th>Sex</th>\n",
       "      <th>ChestPainType</th>\n",
       "      <th>RestingBP</th>\n",
       "      <th>Cholesterol</th>\n",
       "      <th>FastingBS</th>\n",
       "      <th>RestingECG</th>\n",
       "      <th>MaxHR</th>\n",
       "      <th>ExerciseAngina</th>\n",
       "      <th>Oldpeak</th>\n",
       "      <th>ST_Slope</th>\n",
       "      <th>HeartDisease</th>\n",
       "    </tr>\n",
       "  </thead>\n",
       "  <tbody>\n",
       "    <tr>\n",
       "      <th>Age</th>\n",
       "      <td>1.000000</td>\n",
       "      <td>0.055750</td>\n",
       "      <td>0.165896</td>\n",
       "      <td>0.254399</td>\n",
       "      <td>-0.095282</td>\n",
       "      <td>0.198039</td>\n",
       "      <td>0.213152</td>\n",
       "      <td>-0.382045</td>\n",
       "      <td>0.215793</td>\n",
       "      <td>0.258612</td>\n",
       "      <td>-0.093424</td>\n",
       "      <td>0.282039</td>\n",
       "    </tr>\n",
       "    <tr>\n",
       "      <th>Sex</th>\n",
       "      <td>0.055750</td>\n",
       "      <td>1.000000</td>\n",
       "      <td>0.168254</td>\n",
       "      <td>0.005133</td>\n",
       "      <td>-0.200092</td>\n",
       "      <td>0.120076</td>\n",
       "      <td>-0.018343</td>\n",
       "      <td>-0.189186</td>\n",
       "      <td>0.190664</td>\n",
       "      <td>0.105734</td>\n",
       "      <td>-0.066831</td>\n",
       "      <td>0.305445</td>\n",
       "    </tr>\n",
       "    <tr>\n",
       "      <th>ChestPainType</th>\n",
       "      <td>0.165896</td>\n",
       "      <td>0.168254</td>\n",
       "      <td>1.000000</td>\n",
       "      <td>0.022168</td>\n",
       "      <td>-0.136139</td>\n",
       "      <td>0.116703</td>\n",
       "      <td>0.031383</td>\n",
       "      <td>-0.343654</td>\n",
       "      <td>0.416625</td>\n",
       "      <td>0.245027</td>\n",
       "      <td>-0.202675</td>\n",
       "      <td>0.471354</td>\n",
       "    </tr>\n",
       "    <tr>\n",
       "      <th>RestingBP</th>\n",
       "      <td>0.254399</td>\n",
       "      <td>0.005133</td>\n",
       "      <td>0.022168</td>\n",
       "      <td>1.000000</td>\n",
       "      <td>0.100893</td>\n",
       "      <td>0.070193</td>\n",
       "      <td>0.097661</td>\n",
       "      <td>-0.112135</td>\n",
       "      <td>0.155101</td>\n",
       "      <td>0.164803</td>\n",
       "      <td>-0.083418</td>\n",
       "      <td>0.107589</td>\n",
       "    </tr>\n",
       "    <tr>\n",
       "      <th>Cholesterol</th>\n",
       "      <td>-0.095282</td>\n",
       "      <td>-0.200092</td>\n",
       "      <td>-0.136139</td>\n",
       "      <td>0.100893</td>\n",
       "      <td>1.000000</td>\n",
       "      <td>-0.260974</td>\n",
       "      <td>0.112095</td>\n",
       "      <td>0.235792</td>\n",
       "      <td>-0.034166</td>\n",
       "      <td>0.050148</td>\n",
       "      <td>0.007110</td>\n",
       "      <td>-0.232741</td>\n",
       "    </tr>\n",
       "    <tr>\n",
       "      <th>FastingBS</th>\n",
       "      <td>0.198039</td>\n",
       "      <td>0.120076</td>\n",
       "      <td>0.116703</td>\n",
       "      <td>0.070193</td>\n",
       "      <td>-0.260974</td>\n",
       "      <td>1.000000</td>\n",
       "      <td>0.050707</td>\n",
       "      <td>-0.131438</td>\n",
       "      <td>0.060451</td>\n",
       "      <td>0.052698</td>\n",
       "      <td>-0.043534</td>\n",
       "      <td>0.267291</td>\n",
       "    </tr>\n",
       "    <tr>\n",
       "      <th>RestingECG</th>\n",
       "      <td>0.213152</td>\n",
       "      <td>-0.018343</td>\n",
       "      <td>0.031383</td>\n",
       "      <td>0.097661</td>\n",
       "      <td>0.112095</td>\n",
       "      <td>0.050707</td>\n",
       "      <td>1.000000</td>\n",
       "      <td>0.048552</td>\n",
       "      <td>0.036119</td>\n",
       "      <td>0.114428</td>\n",
       "      <td>-0.005282</td>\n",
       "      <td>0.061011</td>\n",
       "    </tr>\n",
       "    <tr>\n",
       "      <th>MaxHR</th>\n",
       "      <td>-0.382045</td>\n",
       "      <td>-0.189186</td>\n",
       "      <td>-0.343654</td>\n",
       "      <td>-0.112135</td>\n",
       "      <td>0.235792</td>\n",
       "      <td>-0.131438</td>\n",
       "      <td>0.048552</td>\n",
       "      <td>1.000000</td>\n",
       "      <td>-0.370425</td>\n",
       "      <td>-0.160691</td>\n",
       "      <td>0.246927</td>\n",
       "      <td>-0.400421</td>\n",
       "    </tr>\n",
       "    <tr>\n",
       "      <th>ExerciseAngina</th>\n",
       "      <td>0.215793</td>\n",
       "      <td>0.190664</td>\n",
       "      <td>0.416625</td>\n",
       "      <td>0.155101</td>\n",
       "      <td>-0.034166</td>\n",
       "      <td>0.060451</td>\n",
       "      <td>0.036119</td>\n",
       "      <td>-0.370425</td>\n",
       "      <td>1.000000</td>\n",
       "      <td>0.408752</td>\n",
       "      <td>-0.253181</td>\n",
       "      <td>0.494282</td>\n",
       "    </tr>\n",
       "    <tr>\n",
       "      <th>Oldpeak</th>\n",
       "      <td>0.258612</td>\n",
       "      <td>0.105734</td>\n",
       "      <td>0.245027</td>\n",
       "      <td>0.164803</td>\n",
       "      <td>0.050148</td>\n",
       "      <td>0.052698</td>\n",
       "      <td>0.114428</td>\n",
       "      <td>-0.160691</td>\n",
       "      <td>0.408752</td>\n",
       "      <td>1.000000</td>\n",
       "      <td>-0.097323</td>\n",
       "      <td>0.403951</td>\n",
       "    </tr>\n",
       "    <tr>\n",
       "      <th>ST_Slope</th>\n",
       "      <td>-0.093424</td>\n",
       "      <td>-0.066831</td>\n",
       "      <td>-0.202675</td>\n",
       "      <td>-0.083418</td>\n",
       "      <td>0.007110</td>\n",
       "      <td>-0.043534</td>\n",
       "      <td>-0.005282</td>\n",
       "      <td>0.246927</td>\n",
       "      <td>-0.253181</td>\n",
       "      <td>-0.097323</td>\n",
       "      <td>1.000000</td>\n",
       "      <td>-0.397802</td>\n",
       "    </tr>\n",
       "    <tr>\n",
       "      <th>HeartDisease</th>\n",
       "      <td>0.282039</td>\n",
       "      <td>0.305445</td>\n",
       "      <td>0.471354</td>\n",
       "      <td>0.107589</td>\n",
       "      <td>-0.232741</td>\n",
       "      <td>0.267291</td>\n",
       "      <td>0.061011</td>\n",
       "      <td>-0.400421</td>\n",
       "      <td>0.494282</td>\n",
       "      <td>0.403951</td>\n",
       "      <td>-0.397802</td>\n",
       "      <td>1.000000</td>\n",
       "    </tr>\n",
       "  </tbody>\n",
       "</table>\n",
       "</div>"
      ],
      "text/plain": [
       "                     Age       Sex  ChestPainType  RestingBP  Cholesterol  \\\n",
       "Age             1.000000  0.055750       0.165896   0.254399    -0.095282   \n",
       "Sex             0.055750  1.000000       0.168254   0.005133    -0.200092   \n",
       "ChestPainType   0.165896  0.168254       1.000000   0.022168    -0.136139   \n",
       "RestingBP       0.254399  0.005133       0.022168   1.000000     0.100893   \n",
       "Cholesterol    -0.095282 -0.200092      -0.136139   0.100893     1.000000   \n",
       "FastingBS       0.198039  0.120076       0.116703   0.070193    -0.260974   \n",
       "RestingECG      0.213152 -0.018343       0.031383   0.097661     0.112095   \n",
       "MaxHR          -0.382045 -0.189186      -0.343654  -0.112135     0.235792   \n",
       "ExerciseAngina  0.215793  0.190664       0.416625   0.155101    -0.034166   \n",
       "Oldpeak         0.258612  0.105734       0.245027   0.164803     0.050148   \n",
       "ST_Slope       -0.093424 -0.066831      -0.202675  -0.083418     0.007110   \n",
       "HeartDisease    0.282039  0.305445       0.471354   0.107589    -0.232741   \n",
       "\n",
       "                FastingBS  RestingECG     MaxHR  ExerciseAngina   Oldpeak  \\\n",
       "Age              0.198039    0.213152 -0.382045        0.215793  0.258612   \n",
       "Sex              0.120076   -0.018343 -0.189186        0.190664  0.105734   \n",
       "ChestPainType    0.116703    0.031383 -0.343654        0.416625  0.245027   \n",
       "RestingBP        0.070193    0.097661 -0.112135        0.155101  0.164803   \n",
       "Cholesterol     -0.260974    0.112095  0.235792       -0.034166  0.050148   \n",
       "FastingBS        1.000000    0.050707 -0.131438        0.060451  0.052698   \n",
       "RestingECG       0.050707    1.000000  0.048552        0.036119  0.114428   \n",
       "MaxHR           -0.131438    0.048552  1.000000       -0.370425 -0.160691   \n",
       "ExerciseAngina   0.060451    0.036119 -0.370425        1.000000  0.408752   \n",
       "Oldpeak          0.052698    0.114428 -0.160691        0.408752  1.000000   \n",
       "ST_Slope        -0.043534   -0.005282  0.246927       -0.253181 -0.097323   \n",
       "HeartDisease     0.267291    0.061011 -0.400421        0.494282  0.403951   \n",
       "\n",
       "                ST_Slope  HeartDisease  \n",
       "Age            -0.093424      0.282039  \n",
       "Sex            -0.066831      0.305445  \n",
       "ChestPainType  -0.202675      0.471354  \n",
       "RestingBP      -0.083418      0.107589  \n",
       "Cholesterol     0.007110     -0.232741  \n",
       "FastingBS      -0.043534      0.267291  \n",
       "RestingECG     -0.005282      0.061011  \n",
       "MaxHR           0.246927     -0.400421  \n",
       "ExerciseAngina -0.253181      0.494282  \n",
       "Oldpeak        -0.097323      0.403951  \n",
       "ST_Slope        1.000000     -0.397802  \n",
       "HeartDisease   -0.397802      1.000000  "
      ]
     },
     "execution_count": 23,
     "metadata": {},
     "output_type": "execute_result"
    }
   ],
   "source": [
    "corr = mydata.corr()\n",
    "corr"
   ]
  },
  {
   "cell_type": "markdown",
   "id": "f65a74a5-ea06-452c-906e-ede6f0ffb453",
   "metadata": {},
   "source": [
    "# Visual plot of correlations"
   ]
  },
  {
   "cell_type": "code",
   "execution_count": 24,
   "id": "b2071943-e876-4007-bf0f-683a314eaaa7",
   "metadata": {},
   "outputs": [
    {
     "data": {
      "text/plain": [
       "<AxesSubplot:>"
      ]
     },
     "execution_count": 24,
     "metadata": {},
     "output_type": "execute_result"
    },
    {
     "data": {
      "image/png": "[encoded data removed]",
      "text/plain": [
       "<Figure size 720x720 with 2 Axes>"
      ]
     },
     "metadata": {
      "needs_background": "light"
     },
     "output_type": "display_data"
    }
   ],
   "source": [
    "fix,ax = plt.subplots(figsize=(10,10))\n",
    "cmap = sns.diverging_palette(10,220, as_cmap=True)\n",
    "sns.heatmap(corr, vmin=-1.0, vmax=1.0, cmap=cmap, ax=ax)"
   ]
  },
  {
   "cell_type": "markdown",
   "id": "1498d420-ebbc-4ade-8646-907ebc44e7e8",
   "metadata": {},
   "source": [
    "# Standardising the variables"
   ]
  },
  {
   "cell_type": "code",
   "execution_count": 26,
   "id": "6abe7d02-6e76-44e5-9f73-482259a85474",
   "metadata": {},
   "outputs": [],
   "source": [
    "from sklearn.preprocessing import StandardScaler\n",
    "\n",
    "features = [\"Age\", \"Sex\", \"ChestPainType\", \"RestingBP\", \"Cholesterol\", \"FastingBS\", \"RestingECG\", \"MaxHR\", \"ExerciseAngina\", \"Oldpeak\", \"ST_Slope\"]\n",
    "# Separating out the features\n",
    "x = mydata.loc[:, features].values \n",
    "# Separating out the target\n",
    "y = mydata.loc[:,['HeartDisease']].values\n",
    "# Standardizing the features\n",
    "transform1 = StandardScaler()\n",
    "transform1.fit(x)\n",
    "x = transform1.transform(x)"
   ]
  },
  {
   "cell_type": "markdown",
   "id": "95b362ab-898d-48ec-9918-f8f718934f8d",
   "metadata": {},
   "source": [
    "# Transforming variables for two-Principal Component Analysis"
   ]
  },
  {
   "cell_type": "code",
   "execution_count": 27,
   "id": "9e91c1b5-1242-4e00-9719-36f4046907e4",
   "metadata": {},
   "outputs": [
    {
     "data": {
      "text/html": [
       "<div>\n",
       "<style scoped>\n",
       "    .dataframe tbody tr th:only-of-type {\n",
       "        vertical-align: middle;\n",
       "    }\n",
       "\n",
       "    .dataframe tbody tr th {\n",
       "        vertical-align: top;\n",
       "    }\n",
       "\n",
       "    .dataframe thead th {\n",
       "        text-align: right;\n",
       "    }\n",
       "</style>\n",
       "<table border=\"1\" class=\"dataframe\">\n",
       "  <thead>\n",
       "    <tr style=\"text-align: right;\">\n",
       "      <th></th>\n",
       "      <th>principal component 1</th>\n",
       "      <th>principal component 2</th>\n",
       "    </tr>\n",
       "  </thead>\n",
       "  <tbody>\n",
       "    <tr>\n",
       "      <th>0</th>\n",
       "      <td>2.566811</td>\n",
       "      <td>0.066172</td>\n",
       "    </tr>\n",
       "    <tr>\n",
       "      <th>1</th>\n",
       "      <td>0.995751</td>\n",
       "      <td>0.953049</td>\n",
       "    </tr>\n",
       "    <tr>\n",
       "      <th>2</th>\n",
       "      <td>1.424941</td>\n",
       "      <td>-0.226664</td>\n",
       "    </tr>\n",
       "    <tr>\n",
       "      <th>3</th>\n",
       "      <td>-0.972481</td>\n",
       "      <td>0.584113</td>\n",
       "    </tr>\n",
       "    <tr>\n",
       "      <th>4</th>\n",
       "      <td>0.526192</td>\n",
       "      <td>-0.387993</td>\n",
       "    </tr>\n",
       "    <tr>\n",
       "      <th>...</th>\n",
       "      <td>...</td>\n",
       "      <td>...</td>\n",
       "    </tr>\n",
       "    <tr>\n",
       "      <th>913</th>\n",
       "      <td>1.599438</td>\n",
       "      <td>-0.378492</td>\n",
       "    </tr>\n",
       "    <tr>\n",
       "      <th>914</th>\n",
       "      <td>-2.007446</td>\n",
       "      <td>0.169475</td>\n",
       "    </tr>\n",
       "    <tr>\n",
       "      <th>915</th>\n",
       "      <td>-1.705044</td>\n",
       "      <td>-0.649948</td>\n",
       "    </tr>\n",
       "    <tr>\n",
       "      <th>916</th>\n",
       "      <td>1.915349</td>\n",
       "      <td>1.723966</td>\n",
       "    </tr>\n",
       "    <tr>\n",
       "      <th>917</th>\n",
       "      <td>2.090879</td>\n",
       "      <td>-0.727145</td>\n",
       "    </tr>\n",
       "  </tbody>\n",
       "</table>\n",
       "<p>918 rows × 2 columns</p>\n",
       "</div>"
      ],
      "text/plain": [
       "     principal component 1  principal component 2\n",
       "0                 2.566811               0.066172\n",
       "1                 0.995751               0.953049\n",
       "2                 1.424941              -0.226664\n",
       "3                -0.972481               0.584113\n",
       "4                 0.526192              -0.387993\n",
       "..                     ...                    ...\n",
       "913               1.599438              -0.378492\n",
       "914              -2.007446               0.169475\n",
       "915              -1.705044              -0.649948\n",
       "916               1.915349               1.723966\n",
       "917               2.090879              -0.727145\n",
       "\n",
       "[918 rows x 2 columns]"
      ]
     },
     "execution_count": 27,
     "metadata": {},
     "output_type": "execute_result"
    }
   ],
   "source": [
    "from sklearn.decomposition import PCA\n",
    "transform2 = PCA(n_components=2)\n",
    "transform2.fit(x)\n",
    "principalComponents = transform2.transform(x)\n",
    "principalDf = pd.DataFrame(data = principalComponents\n",
    "             , columns = ['principal component 1', 'principal component 2'])\n",
    "principalDf"
   ]
  },
  {
   "cell_type": "code",
   "execution_count": 29,
   "id": "5c432039-fb0a-476b-869d-c5b1bac34dc6",
   "metadata": {},
   "outputs": [
    {
     "data": {
      "text/html": [
       "<div>\n",
       "<style scoped>\n",
       "    .dataframe tbody tr th:only-of-type {\n",
       "        vertical-align: middle;\n",
       "    }\n",
       "\n",
       "    .dataframe tbody tr th {\n",
       "        vertical-align: top;\n",
       "    }\n",
       "\n",
       "    .dataframe thead th {\n",
       "        text-align: right;\n",
       "    }\n",
       "</style>\n",
       "<table border=\"1\" class=\"dataframe\">\n",
       "  <thead>\n",
       "    <tr style=\"text-align: right;\">\n",
       "      <th></th>\n",
       "      <th>principal component 1</th>\n",
       "      <th>principal component 2</th>\n",
       "      <th>HeartDisease</th>\n",
       "    </tr>\n",
       "  </thead>\n",
       "  <tbody>\n",
       "    <tr>\n",
       "      <th>0</th>\n",
       "      <td>2.566811</td>\n",
       "      <td>0.066172</td>\n",
       "      <td>0</td>\n",
       "    </tr>\n",
       "    <tr>\n",
       "      <th>1</th>\n",
       "      <td>0.995751</td>\n",
       "      <td>0.953049</td>\n",
       "      <td>1</td>\n",
       "    </tr>\n",
       "    <tr>\n",
       "      <th>2</th>\n",
       "      <td>1.424941</td>\n",
       "      <td>-0.226664</td>\n",
       "      <td>0</td>\n",
       "    </tr>\n",
       "    <tr>\n",
       "      <th>3</th>\n",
       "      <td>-0.972481</td>\n",
       "      <td>0.584113</td>\n",
       "      <td>1</td>\n",
       "    </tr>\n",
       "    <tr>\n",
       "      <th>4</th>\n",
       "      <td>0.526192</td>\n",
       "      <td>-0.387993</td>\n",
       "      <td>0</td>\n",
       "    </tr>\n",
       "    <tr>\n",
       "      <th>...</th>\n",
       "      <td>...</td>\n",
       "      <td>...</td>\n",
       "      <td>...</td>\n",
       "    </tr>\n",
       "    <tr>\n",
       "      <th>913</th>\n",
       "      <td>1.599438</td>\n",
       "      <td>-0.378492</td>\n",
       "      <td>1</td>\n",
       "    </tr>\n",
       "    <tr>\n",
       "      <th>914</th>\n",
       "      <td>-2.007446</td>\n",
       "      <td>0.169475</td>\n",
       "      <td>1</td>\n",
       "    </tr>\n",
       "    <tr>\n",
       "      <th>915</th>\n",
       "      <td>-1.705044</td>\n",
       "      <td>-0.649948</td>\n",
       "      <td>1</td>\n",
       "    </tr>\n",
       "    <tr>\n",
       "      <th>916</th>\n",
       "      <td>1.915349</td>\n",
       "      <td>1.723966</td>\n",
       "      <td>1</td>\n",
       "    </tr>\n",
       "    <tr>\n",
       "      <th>917</th>\n",
       "      <td>2.090879</td>\n",
       "      <td>-0.727145</td>\n",
       "      <td>0</td>\n",
       "    </tr>\n",
       "  </tbody>\n",
       "</table>\n",
       "<p>918 rows × 3 columns</p>\n",
       "</div>"
      ],
      "text/plain": [
       "     principal component 1  principal component 2  HeartDisease\n",
       "0                 2.566811               0.066172             0\n",
       "1                 0.995751               0.953049             1\n",
       "2                 1.424941              -0.226664             0\n",
       "3                -0.972481               0.584113             1\n",
       "4                 0.526192              -0.387993             0\n",
       "..                     ...                    ...           ...\n",
       "913               1.599438              -0.378492             1\n",
       "914              -2.007446               0.169475             1\n",
       "915              -1.705044              -0.649948             1\n",
       "916               1.915349               1.723966             1\n",
       "917               2.090879              -0.727145             0\n",
       "\n",
       "[918 rows x 3 columns]"
      ]
     },
     "execution_count": 29,
     "metadata": {},
     "output_type": "execute_result"
    }
   ],
   "source": [
    "finalDf = pd.concat([principalDf, mydata[['HeartDisease']]], axis = 1)\n",
    "finalDf"
   ]
  },
  {
   "cell_type": "markdown",
   "id": "4a439b66-3921-40eb-9f04-31af37face21",
   "metadata": {},
   "source": [
    "# Plot to visualise the Heart disease prediction based on two-principal component analysis"
   ]
  },
  {
   "cell_type": "code",
   "execution_count": 30,
   "id": "c42204f3-55a2-4f80-8eaf-5efa136266b7",
   "metadata": {},
   "outputs": [
    {
     "data": {
      "text/plain": [
       "<seaborn.axisgrid.FacetGrid at 0x1e76211efd0>"
      ]
     },
     "execution_count": 30,
     "metadata": {},
     "output_type": "execute_result"
    },
    {
     "data": {
      "image/png": "[encoded data removed]",
      "text/plain": [
       "<Figure size 435.25x360 with 1 Axes>"
      ]
     },
     "metadata": {
      "needs_background": "light"
     },
     "output_type": "display_data"
    }
   ],
   "source": [
    "sns.relplot(data=finalDf, x = \"principal component 1\", y = \"principal component 2\", hue=\"HeartDisease\")"
   ]
  },
  {
   "cell_type": "markdown",
   "id": "eca755bb-a3a9-41e7-a842-28e4c1aa6d96",
   "metadata": {},
   "source": [
    "# Variation explained by each of the components "
   ]
  },
  {
   "cell_type": "code",
   "execution_count": 31,
   "id": "d609ac33-1cc1-466f-bc80-5c5e6e3209a7",
   "metadata": {},
   "outputs": [
    {
     "data": {
      "text/plain": [
       "array([0.23438315, 0.1314467 ])"
      ]
     },
     "execution_count": 31,
     "metadata": {},
     "output_type": "execute_result"
    }
   ],
   "source": [
    "transform2.explained_variance_ratio_"
   ]
  },
  {
   "cell_type": "markdown",
   "id": "0f953d9a-bfe6-4cc6-aa51-44226bd3c780",
   "metadata": {},
   "source": [
    "# Splitting the dataset into training and testing datasets"
   ]
  },
  {
   "cell_type": "code",
   "execution_count": 33,
   "id": "cbe5939a-f06c-4c3a-9771-a9e7ccc58cc8",
   "metadata": {},
   "outputs": [],
   "source": [
    "X = pd.DataFrame(finalDf, columns=[\"principal component 1\", \"principal component 2\"])\n",
    "y = finalDf[\"HeartDisease\"]\n",
    "from sklearn.model_selection import train_test_split\n",
    "\n",
    "train_X, test_X, train_y, test_y = train_test_split(X, y, random_state=42)"
   ]
  },
  {
   "cell_type": "markdown",
   "id": "71bad7d8-0323-4459-b273-e44ff69e09c6",
   "metadata": {},
   "source": [
    "# Model to choose the optimum value for hyperparameter (number of neighbours) and train the KNeighbours model"
   ]
  },
  {
   "cell_type": "code",
   "execution_count": 34,
   "id": "35d92be8-032d-4cdd-857c-45280855a792",
   "metadata": {},
   "outputs": [],
   "source": [
    "from sklearn.model_selection import GridSearchCV\n",
    "from sklearn.neighbors import KNeighborsClassifier\n",
    "\n",
    "parameters = {\n",
    "    \"n_neighbors\" : range(1, 100),\n",
    "}\n",
    "clf = GridSearchCV(KNeighborsClassifier(), parameters).fit(train_X, train_y)"
   ]
  },
  {
   "cell_type": "code",
   "execution_count": 35,
   "id": "5d152853-dfa4-421f-a5e7-9c0caf59d8e1",
   "metadata": {},
   "outputs": [
    {
     "data": {
      "text/html": [
       "<div>\n",
       "<style scoped>\n",
       "    .dataframe tbody tr th:only-of-type {\n",
       "        vertical-align: middle;\n",
       "    }\n",
       "\n",
       "    .dataframe tbody tr th {\n",
       "        vertical-align: top;\n",
       "    }\n",
       "\n",
       "    .dataframe thead th {\n",
       "        text-align: right;\n",
       "    }\n",
       "</style>\n",
       "<table border=\"1\" class=\"dataframe\">\n",
       "  <thead>\n",
       "    <tr style=\"text-align: right;\">\n",
       "      <th></th>\n",
       "      <th>mean_fit_time</th>\n",
       "      <th>std_fit_time</th>\n",
       "      <th>mean_score_time</th>\n",
       "      <th>std_score_time</th>\n",
       "      <th>param_n_neighbors</th>\n",
       "      <th>params</th>\n",
       "      <th>split0_test_score</th>\n",
       "      <th>split1_test_score</th>\n",
       "      <th>split2_test_score</th>\n",
       "      <th>split3_test_score</th>\n",
       "      <th>split4_test_score</th>\n",
       "      <th>mean_test_score</th>\n",
       "      <th>std_test_score</th>\n",
       "      <th>rank_test_score</th>\n",
       "    </tr>\n",
       "  </thead>\n",
       "  <tbody>\n",
       "    <tr>\n",
       "      <th>0</th>\n",
       "      <td>0.001203</td>\n",
       "      <td>0.000755</td>\n",
       "      <td>0.002405</td>\n",
       "      <td>0.001597</td>\n",
       "      <td>1</td>\n",
       "      <td>{'n_neighbors': 1}</td>\n",
       "      <td>0.746377</td>\n",
       "      <td>0.782609</td>\n",
       "      <td>0.782609</td>\n",
       "      <td>0.693431</td>\n",
       "      <td>0.729927</td>\n",
       "      <td>0.746990</td>\n",
       "      <td>0.033757</td>\n",
       "      <td>99</td>\n",
       "    </tr>\n",
       "    <tr>\n",
       "      <th>1</th>\n",
       "      <td>0.000000</td>\n",
       "      <td>0.000000</td>\n",
       "      <td>0.006258</td>\n",
       "      <td>0.007664</td>\n",
       "      <td>2</td>\n",
       "      <td>{'n_neighbors': 2}</td>\n",
       "      <td>0.746377</td>\n",
       "      <td>0.746377</td>\n",
       "      <td>0.789855</td>\n",
       "      <td>0.737226</td>\n",
       "      <td>0.729927</td>\n",
       "      <td>0.749952</td>\n",
       "      <td>0.020884</td>\n",
       "      <td>98</td>\n",
       "    </tr>\n",
       "    <tr>\n",
       "      <th>2</th>\n",
       "      <td>0.000000</td>\n",
       "      <td>0.000000</td>\n",
       "      <td>0.003116</td>\n",
       "      <td>0.006231</td>\n",
       "      <td>3</td>\n",
       "      <td>{'n_neighbors': 3}</td>\n",
       "      <td>0.818841</td>\n",
       "      <td>0.833333</td>\n",
       "      <td>0.804348</td>\n",
       "      <td>0.781022</td>\n",
       "      <td>0.751825</td>\n",
       "      <td>0.797874</td>\n",
       "      <td>0.028787</td>\n",
       "      <td>96</td>\n",
       "    </tr>\n",
       "    <tr>\n",
       "      <th>3</th>\n",
       "      <td>0.003124</td>\n",
       "      <td>0.006248</td>\n",
       "      <td>0.000000</td>\n",
       "      <td>0.000000</td>\n",
       "      <td>4</td>\n",
       "      <td>{'n_neighbors': 4}</td>\n",
       "      <td>0.789855</td>\n",
       "      <td>0.818841</td>\n",
       "      <td>0.797101</td>\n",
       "      <td>0.795620</td>\n",
       "      <td>0.737226</td>\n",
       "      <td>0.787729</td>\n",
       "      <td>0.027104</td>\n",
       "      <td>97</td>\n",
       "    </tr>\n",
       "    <tr>\n",
       "      <th>4</th>\n",
       "      <td>0.003124</td>\n",
       "      <td>0.006248</td>\n",
       "      <td>0.003791</td>\n",
       "      <td>0.004665</td>\n",
       "      <td>5</td>\n",
       "      <td>{'n_neighbors': 5}</td>\n",
       "      <td>0.811594</td>\n",
       "      <td>0.818841</td>\n",
       "      <td>0.804348</td>\n",
       "      <td>0.832117</td>\n",
       "      <td>0.759124</td>\n",
       "      <td>0.805205</td>\n",
       "      <td>0.024800</td>\n",
       "      <td>94</td>\n",
       "    </tr>\n",
       "  </tbody>\n",
       "</table>\n",
       "</div>"
      ],
      "text/plain": [
       "   mean_fit_time  std_fit_time  mean_score_time  std_score_time  \\\n",
       "0       0.001203      0.000755         0.002405        0.001597   \n",
       "1       0.000000      0.000000         0.006258        0.007664   \n",
       "2       0.000000      0.000000         0.003116        0.006231   \n",
       "3       0.003124      0.006248         0.000000        0.000000   \n",
       "4       0.003124      0.006248         0.003791        0.004665   \n",
       "\n",
       "  param_n_neighbors              params  split0_test_score  split1_test_score  \\\n",
       "0                 1  {'n_neighbors': 1}           0.746377           0.782609   \n",
       "1                 2  {'n_neighbors': 2}           0.746377           0.746377   \n",
       "2                 3  {'n_neighbors': 3}           0.818841           0.833333   \n",
       "3                 4  {'n_neighbors': 4}           0.789855           0.818841   \n",
       "4                 5  {'n_neighbors': 5}           0.811594           0.818841   \n",
       "\n",
       "   split2_test_score  split3_test_score  split4_test_score  mean_test_score  \\\n",
       "0           0.782609           0.693431           0.729927         0.746990   \n",
       "1           0.789855           0.737226           0.729927         0.749952   \n",
       "2           0.804348           0.781022           0.751825         0.797874   \n",
       "3           0.797101           0.795620           0.737226         0.787729   \n",
       "4           0.804348           0.832117           0.759124         0.805205   \n",
       "\n",
       "   std_test_score  rank_test_score  \n",
       "0        0.033757               99  \n",
       "1        0.020884               98  \n",
       "2        0.028787               96  \n",
       "3        0.027104               97  \n",
       "4        0.024800               94  "
      ]
     },
     "execution_count": 35,
     "metadata": {},
     "output_type": "execute_result"
    }
   ],
   "source": [
    "cv_results = pd.DataFrame(clf.cv_results_)\n",
    "cv_results.head()"
   ]
  },
  {
   "cell_type": "markdown",
   "id": "d0cf7995-8578-4fe8-b5ef-7864a3325948",
   "metadata": {},
   "source": [
    "# Plot to visualise distribution of predictions"
   ]
  },
  {
   "cell_type": "code",
   "execution_count": 36,
   "id": "53ea9cc4-7cd8-4d72-8b49-b01528fe3385",
   "metadata": {},
   "outputs": [
    {
     "data": {
      "image/png": "[encoded data removed]",
      "text/plain": [
       "<Figure size 432x288 with 1 Axes>"
      ]
     },
     "metadata": {
      "needs_background": "light"
     },
     "output_type": "display_data"
    }
   ],
   "source": [
    "def plot_knn(model, X, y, resolution=100, ax=None):\n",
    "    import matplotlib.pyplot as plt\n",
    "    import numpy as np\n",
    "    import pandas as pd\n",
    "\n",
    "    x1 = X.iloc[:,0]\n",
    "    x2 = X.iloc[:,1]\n",
    "    x1_range = np.linspace(x1.min()*1.1 - x1.max()*0.1, x1.max()*1.1 - x1.min()*0.1, resolution)\n",
    "    x2_range = np.linspace(x2.min()*1.1 - x2.max()*0.1, x2.max()*1.1 - x2.min()*0.1, resolution)\n",
    "    grid_x1_values, grid_x2_values = np.meshgrid(x1_range, x2_range)\n",
    "    x_prime = np.column_stack((grid_x1_values.ravel(), grid_x2_values.ravel()))\n",
    "    x_prime = pd.DataFrame(x_prime, columns=X.columns)\n",
    "    y_hat = model.predict(x_prime).reshape(grid_x1_values.shape)\n",
    "\n",
    "    if ax is None:\n",
    "        fig, ax = plt.subplots()\n",
    "    ax.pcolormesh(grid_x1_values, grid_x2_values, y_hat, cmap=\"Pastel2\", alpha=1.0, shading=\"auto\")\n",
    "    X.plot.scatter(0, 1, c=y, colormap=\"Dark2\", colorbar=False, alpha=0.8, ax=ax)\n",
    "\n",
    "plot_knn(clf, X, y)"
   ]
  },
  {
   "cell_type": "markdown",
   "id": "5a64ea83-45f3-4457-8e43-dce10505d10f",
   "metadata": {},
   "source": [
    "# Check model for prediction against test dataset"
   ]
  },
  {
   "cell_type": "code",
   "execution_count": 37,
   "id": "77866e2b-beb7-4f09-90e8-dd91d9ac68a0",
   "metadata": {},
   "outputs": [
    {
     "data": {
      "text/plain": [
       "0.8173913043478261"
      ]
     },
     "execution_count": 37,
     "metadata": {},
     "output_type": "execute_result"
    }
   ],
   "source": [
    "clf.score(test_X, test_y)"
   ]
  },
  {
   "cell_type": "markdown",
   "id": "b54fea18-c9a2-45f5-93a9-a516ccce3c37",
   "metadata": {},
   "source": [
    "# Re-run with three-component PCA analysis to check if model prediction is improved"
   ]
  },
  {
   "cell_type": "code",
   "execution_count": 38,
   "id": "8bf8a7c7-8097-4678-b3cb-79171b6961dc",
   "metadata": {
    "tags": []
   },
   "outputs": [
    {
     "data": {
      "text/html": [
       "<div>\n",
       "<style scoped>\n",
       "    .dataframe tbody tr th:only-of-type {\n",
       "        vertical-align: middle;\n",
       "    }\n",
       "\n",
       "    .dataframe tbody tr th {\n",
       "        vertical-align: top;\n",
       "    }\n",
       "\n",
       "    .dataframe thead th {\n",
       "        text-align: right;\n",
       "    }\n",
       "</style>\n",
       "<table border=\"1\" class=\"dataframe\">\n",
       "  <thead>\n",
       "    <tr style=\"text-align: right;\">\n",
       "      <th></th>\n",
       "      <th>principal component 1</th>\n",
       "      <th>principal component 2</th>\n",
       "      <th>principal component 3</th>\n",
       "    </tr>\n",
       "  </thead>\n",
       "  <tbody>\n",
       "    <tr>\n",
       "      <th>0</th>\n",
       "      <td>2.566811</td>\n",
       "      <td>0.066172</td>\n",
       "      <td>-0.353333</td>\n",
       "    </tr>\n",
       "    <tr>\n",
       "      <th>1</th>\n",
       "      <td>0.995751</td>\n",
       "      <td>0.953049</td>\n",
       "      <td>-0.240764</td>\n",
       "    </tr>\n",
       "    <tr>\n",
       "      <th>2</th>\n",
       "      <td>1.424941</td>\n",
       "      <td>-0.226664</td>\n",
       "      <td>-0.222245</td>\n",
       "    </tr>\n",
       "    <tr>\n",
       "      <th>3</th>\n",
       "      <td>-0.972481</td>\n",
       "      <td>0.584113</td>\n",
       "      <td>-1.680575</td>\n",
       "    </tr>\n",
       "    <tr>\n",
       "      <th>4</th>\n",
       "      <td>0.526192</td>\n",
       "      <td>-0.387993</td>\n",
       "      <td>0.299450</td>\n",
       "    </tr>\n",
       "    <tr>\n",
       "      <th>...</th>\n",
       "      <td>...</td>\n",
       "      <td>...</td>\n",
       "      <td>...</td>\n",
       "    </tr>\n",
       "    <tr>\n",
       "      <th>913</th>\n",
       "      <td>1.599438</td>\n",
       "      <td>-0.378492</td>\n",
       "      <td>-0.865033</td>\n",
       "    </tr>\n",
       "    <tr>\n",
       "      <th>914</th>\n",
       "      <td>-2.007446</td>\n",
       "      <td>0.169475</td>\n",
       "      <td>0.975313</td>\n",
       "    </tr>\n",
       "    <tr>\n",
       "      <th>915</th>\n",
       "      <td>-1.705044</td>\n",
       "      <td>-0.649948</td>\n",
       "      <td>-1.234148</td>\n",
       "    </tr>\n",
       "    <tr>\n",
       "      <th>916</th>\n",
       "      <td>1.915349</td>\n",
       "      <td>1.723966</td>\n",
       "      <td>0.915655</td>\n",
       "    </tr>\n",
       "    <tr>\n",
       "      <th>917</th>\n",
       "      <td>2.090879</td>\n",
       "      <td>-0.727145</td>\n",
       "      <td>-0.469459</td>\n",
       "    </tr>\n",
       "  </tbody>\n",
       "</table>\n",
       "<p>918 rows × 3 columns</p>\n",
       "</div>"
      ],
      "text/plain": [
       "     principal component 1  principal component 2  principal component 3\n",
       "0                 2.566811               0.066172              -0.353333\n",
       "1                 0.995751               0.953049              -0.240764\n",
       "2                 1.424941              -0.226664              -0.222245\n",
       "3                -0.972481               0.584113              -1.680575\n",
       "4                 0.526192              -0.387993               0.299450\n",
       "..                     ...                    ...                    ...\n",
       "913               1.599438              -0.378492              -0.865033\n",
       "914              -2.007446               0.169475               0.975313\n",
       "915              -1.705044              -0.649948              -1.234148\n",
       "916               1.915349               1.723966               0.915655\n",
       "917               2.090879              -0.727145              -0.469459\n",
       "\n",
       "[918 rows x 3 columns]"
      ]
     },
     "execution_count": 38,
     "metadata": {},
     "output_type": "execute_result"
    }
   ],
   "source": [
    "from sklearn.decomposition import PCA\n",
    "transform2 = PCA(n_components=3)\n",
    "transform2.fit(x)\n",
    "principalComponents = transform2.transform(x)\n",
    "principalDf = pd.DataFrame(data = principalComponents\n",
    "             , columns = ['principal component 1', 'principal component 2','principal component 3'])\n",
    "principalDf"
   ]
  },
  {
   "cell_type": "code",
   "execution_count": 40,
   "id": "27a74e93-9347-496b-8d5c-64d22c7036a1",
   "metadata": {},
   "outputs": [
    {
     "data": {
      "text/html": [
       "<div>\n",
       "<style scoped>\n",
       "    .dataframe tbody tr th:only-of-type {\n",
       "        vertical-align: middle;\n",
       "    }\n",
       "\n",
       "    .dataframe tbody tr th {\n",
       "        vertical-align: top;\n",
       "    }\n",
       "\n",
       "    .dataframe thead th {\n",
       "        text-align: right;\n",
       "    }\n",
       "</style>\n",
       "<table border=\"1\" class=\"dataframe\">\n",
       "  <thead>\n",
       "    <tr style=\"text-align: right;\">\n",
       "      <th></th>\n",
       "      <th>principal component 1</th>\n",
       "      <th>principal component 2</th>\n",
       "      <th>principal component 3</th>\n",
       "      <th>HeartDisease</th>\n",
       "    </tr>\n",
       "  </thead>\n",
       "  <tbody>\n",
       "    <tr>\n",
       "      <th>0</th>\n",
       "      <td>2.566811</td>\n",
       "      <td>0.066172</td>\n",
       "      <td>-0.353333</td>\n",
       "      <td>0</td>\n",
       "    </tr>\n",
       "    <tr>\n",
       "      <th>1</th>\n",
       "      <td>0.995751</td>\n",
       "      <td>0.953049</td>\n",
       "      <td>-0.240764</td>\n",
       "      <td>1</td>\n",
       "    </tr>\n",
       "    <tr>\n",
       "      <th>2</th>\n",
       "      <td>1.424941</td>\n",
       "      <td>-0.226664</td>\n",
       "      <td>-0.222245</td>\n",
       "      <td>0</td>\n",
       "    </tr>\n",
       "    <tr>\n",
       "      <th>3</th>\n",
       "      <td>-0.972481</td>\n",
       "      <td>0.584113</td>\n",
       "      <td>-1.680575</td>\n",
       "      <td>1</td>\n",
       "    </tr>\n",
       "    <tr>\n",
       "      <th>4</th>\n",
       "      <td>0.526192</td>\n",
       "      <td>-0.387993</td>\n",
       "      <td>0.299450</td>\n",
       "      <td>0</td>\n",
       "    </tr>\n",
       "    <tr>\n",
       "      <th>...</th>\n",
       "      <td>...</td>\n",
       "      <td>...</td>\n",
       "      <td>...</td>\n",
       "      <td>...</td>\n",
       "    </tr>\n",
       "    <tr>\n",
       "      <th>913</th>\n",
       "      <td>1.599438</td>\n",
       "      <td>-0.378492</td>\n",
       "      <td>-0.865033</td>\n",
       "      <td>1</td>\n",
       "    </tr>\n",
       "    <tr>\n",
       "      <th>914</th>\n",
       "      <td>-2.007446</td>\n",
       "      <td>0.169475</td>\n",
       "      <td>0.975313</td>\n",
       "      <td>1</td>\n",
       "    </tr>\n",
       "    <tr>\n",
       "      <th>915</th>\n",
       "      <td>-1.705044</td>\n",
       "      <td>-0.649948</td>\n",
       "      <td>-1.234148</td>\n",
       "      <td>1</td>\n",
       "    </tr>\n",
       "    <tr>\n",
       "      <th>916</th>\n",
       "      <td>1.915349</td>\n",
       "      <td>1.723966</td>\n",
       "      <td>0.915655</td>\n",
       "      <td>1</td>\n",
       "    </tr>\n",
       "    <tr>\n",
       "      <th>917</th>\n",
       "      <td>2.090879</td>\n",
       "      <td>-0.727145</td>\n",
       "      <td>-0.469459</td>\n",
       "      <td>0</td>\n",
       "    </tr>\n",
       "  </tbody>\n",
       "</table>\n",
       "<p>918 rows × 4 columns</p>\n",
       "</div>"
      ],
      "text/plain": [
       "     principal component 1  principal component 2  principal component 3  \\\n",
       "0                 2.566811               0.066172              -0.353333   \n",
       "1                 0.995751               0.953049              -0.240764   \n",
       "2                 1.424941              -0.226664              -0.222245   \n",
       "3                -0.972481               0.584113              -1.680575   \n",
       "4                 0.526192              -0.387993               0.299450   \n",
       "..                     ...                    ...                    ...   \n",
       "913               1.599438              -0.378492              -0.865033   \n",
       "914              -2.007446               0.169475               0.975313   \n",
       "915              -1.705044              -0.649948              -1.234148   \n",
       "916               1.915349               1.723966               0.915655   \n",
       "917               2.090879              -0.727145              -0.469459   \n",
       "\n",
       "     HeartDisease  \n",
       "0               0  \n",
       "1               1  \n",
       "2               0  \n",
       "3               1  \n",
       "4               0  \n",
       "..            ...  \n",
       "913             1  \n",
       "914             1  \n",
       "915             1  \n",
       "916             1  \n",
       "917             0  \n",
       "\n",
       "[918 rows x 4 columns]"
      ]
     },
     "execution_count": 40,
     "metadata": {},
     "output_type": "execute_result"
    }
   ],
   "source": [
    "finalDf = pd.concat([principalDf, mydata[['HeartDisease']]], axis = 1)\n",
    "finalDf"
   ]
  },
  {
   "cell_type": "code",
   "execution_count": 41,
   "id": "015811ea-fde4-4c14-9a13-370ae9e81204",
   "metadata": {},
   "outputs": [
    {
     "data": {
      "text/plain": [
       "array([0.23438315, 0.1314467 , 0.11009956])"
      ]
     },
     "execution_count": 41,
     "metadata": {},
     "output_type": "execute_result"
    }
   ],
   "source": [
    "transform2.explained_variance_ratio_"
   ]
  },
  {
   "cell_type": "code",
   "execution_count": 42,
   "id": "31e9cde0-00c7-4d10-825d-81d67f05b17b",
   "metadata": {},
   "outputs": [],
   "source": [
    "X = pd.DataFrame(finalDf, columns=[\"principal component 1\", \"principal component 2\", \"principal component 3\"])\n",
    "y = finalDf[\"HeartDisease\"]\n",
    "from sklearn.model_selection import train_test_split\n",
    "\n",
    "train_X, test_X, train_y, test_y = train_test_split(X, y, random_state=42)"
   ]
  },
  {
   "cell_type": "code",
   "execution_count": 43,
   "id": "152efa82-01f7-4ab2-a489-f65a8dfad5f8",
   "metadata": {},
   "outputs": [],
   "source": [
    "from sklearn.model_selection import GridSearchCV\n",
    "from sklearn.neighbors import KNeighborsClassifier\n",
    "\n",
    "parameters = {\n",
    "    \"n_neighbors\" : range(1, 100),\n",
    "}\n",
    "clf = GridSearchCV(KNeighborsClassifier(), parameters).fit(train_X, train_y)"
   ]
  },
  {
   "cell_type": "code",
   "execution_count": 44,
   "id": "b6a95fa0-cc3d-4a37-a9c8-ec58fda22cbb",
   "metadata": {},
   "outputs": [
    {
     "data": {
      "text/html": [
       "<div>\n",
       "<style scoped>\n",
       "    .dataframe tbody tr th:only-of-type {\n",
       "        vertical-align: middle;\n",
       "    }\n",
       "\n",
       "    .dataframe tbody tr th {\n",
       "        vertical-align: top;\n",
       "    }\n",
       "\n",
       "    .dataframe thead th {\n",
       "        text-align: right;\n",
       "    }\n",
       "</style>\n",
       "<table border=\"1\" class=\"dataframe\">\n",
       "  <thead>\n",
       "    <tr style=\"text-align: right;\">\n",
       "      <th></th>\n",
       "      <th>mean_fit_time</th>\n",
       "      <th>std_fit_time</th>\n",
       "      <th>mean_score_time</th>\n",
       "      <th>std_score_time</th>\n",
       "      <th>param_n_neighbors</th>\n",
       "      <th>params</th>\n",
       "      <th>split0_test_score</th>\n",
       "      <th>split1_test_score</th>\n",
       "      <th>split2_test_score</th>\n",
       "      <th>split3_test_score</th>\n",
       "      <th>split4_test_score</th>\n",
       "      <th>mean_test_score</th>\n",
       "      <th>std_test_score</th>\n",
       "      <th>rank_test_score</th>\n",
       "    </tr>\n",
       "  </thead>\n",
       "  <tbody>\n",
       "    <tr>\n",
       "      <th>0</th>\n",
       "      <td>0.001795</td>\n",
       "      <td>0.000398</td>\n",
       "      <td>0.004196</td>\n",
       "      <td>0.000734</td>\n",
       "      <td>1</td>\n",
       "      <td>{'n_neighbors': 1}</td>\n",
       "      <td>0.775362</td>\n",
       "      <td>0.797101</td>\n",
       "      <td>0.775362</td>\n",
       "      <td>0.737226</td>\n",
       "      <td>0.737226</td>\n",
       "      <td>0.764456</td>\n",
       "      <td>0.023607</td>\n",
       "      <td>98</td>\n",
       "    </tr>\n",
       "    <tr>\n",
       "      <th>1</th>\n",
       "      <td>0.000991</td>\n",
       "      <td>0.000017</td>\n",
       "      <td>0.003996</td>\n",
       "      <td>0.000016</td>\n",
       "      <td>2</td>\n",
       "      <td>{'n_neighbors': 2}</td>\n",
       "      <td>0.768116</td>\n",
       "      <td>0.746377</td>\n",
       "      <td>0.760870</td>\n",
       "      <td>0.788321</td>\n",
       "      <td>0.744526</td>\n",
       "      <td>0.761642</td>\n",
       "      <td>0.016002</td>\n",
       "      <td>99</td>\n",
       "    </tr>\n",
       "    <tr>\n",
       "      <th>2</th>\n",
       "      <td>0.001397</td>\n",
       "      <td>0.000489</td>\n",
       "      <td>0.003609</td>\n",
       "      <td>0.000465</td>\n",
       "      <td>3</td>\n",
       "      <td>{'n_neighbors': 3}</td>\n",
       "      <td>0.818841</td>\n",
       "      <td>0.833333</td>\n",
       "      <td>0.782609</td>\n",
       "      <td>0.802920</td>\n",
       "      <td>0.788321</td>\n",
       "      <td>0.805205</td>\n",
       "      <td>0.018857</td>\n",
       "      <td>96</td>\n",
       "    </tr>\n",
       "    <tr>\n",
       "      <th>3</th>\n",
       "      <td>0.000000</td>\n",
       "      <td>0.000000</td>\n",
       "      <td>0.003133</td>\n",
       "      <td>0.006266</td>\n",
       "      <td>4</td>\n",
       "      <td>{'n_neighbors': 4}</td>\n",
       "      <td>0.826087</td>\n",
       "      <td>0.811594</td>\n",
       "      <td>0.768116</td>\n",
       "      <td>0.810219</td>\n",
       "      <td>0.795620</td>\n",
       "      <td>0.802327</td>\n",
       "      <td>0.019637</td>\n",
       "      <td>97</td>\n",
       "    </tr>\n",
       "    <tr>\n",
       "      <th>4</th>\n",
       "      <td>0.000000</td>\n",
       "      <td>0.000000</td>\n",
       "      <td>0.006117</td>\n",
       "      <td>0.007494</td>\n",
       "      <td>5</td>\n",
       "      <td>{'n_neighbors': 5}</td>\n",
       "      <td>0.833333</td>\n",
       "      <td>0.862319</td>\n",
       "      <td>0.782609</td>\n",
       "      <td>0.810219</td>\n",
       "      <td>0.795620</td>\n",
       "      <td>0.816820</td>\n",
       "      <td>0.028306</td>\n",
       "      <td>95</td>\n",
       "    </tr>\n",
       "  </tbody>\n",
       "</table>\n",
       "</div>"
      ],
      "text/plain": [
       "   mean_fit_time  std_fit_time  mean_score_time  std_score_time  \\\n",
       "0       0.001795      0.000398         0.004196        0.000734   \n",
       "1       0.000991      0.000017         0.003996        0.000016   \n",
       "2       0.001397      0.000489         0.003609        0.000465   \n",
       "3       0.000000      0.000000         0.003133        0.006266   \n",
       "4       0.000000      0.000000         0.006117        0.007494   \n",
       "\n",
       "  param_n_neighbors              params  split0_test_score  split1_test_score  \\\n",
       "0                 1  {'n_neighbors': 1}           0.775362           0.797101   \n",
       "1                 2  {'n_neighbors': 2}           0.768116           0.746377   \n",
       "2                 3  {'n_neighbors': 3}           0.818841           0.833333   \n",
       "3                 4  {'n_neighbors': 4}           0.826087           0.811594   \n",
       "4                 5  {'n_neighbors': 5}           0.833333           0.862319   \n",
       "\n",
       "   split2_test_score  split3_test_score  split4_test_score  mean_test_score  \\\n",
       "0           0.775362           0.737226           0.737226         0.764456   \n",
       "1           0.760870           0.788321           0.744526         0.761642   \n",
       "2           0.782609           0.802920           0.788321         0.805205   \n",
       "3           0.768116           0.810219           0.795620         0.802327   \n",
       "4           0.782609           0.810219           0.795620         0.816820   \n",
       "\n",
       "   std_test_score  rank_test_score  \n",
       "0        0.023607               98  \n",
       "1        0.016002               99  \n",
       "2        0.018857               96  \n",
       "3        0.019637               97  \n",
       "4        0.028306               95  "
      ]
     },
     "execution_count": 44,
     "metadata": {},
     "output_type": "execute_result"
    }
   ],
   "source": [
    "cv_results = pd.DataFrame(clf.cv_results_)\n",
    "cv_results.head()"
   ]
  },
  {
   "cell_type": "code",
   "execution_count": 46,
   "id": "6b03805c-3229-414d-87fb-b48bca9139f1",
   "metadata": {},
   "outputs": [
    {
     "data": {
      "text/plain": [
       "0.8304347826086956"
      ]
     },
     "execution_count": 46,
     "metadata": {},
     "output_type": "execute_result"
    }
   ],
   "source": [
    "clf.score(test_X, test_y)"
   ]
  }
 ],
 "metadata": {
  "kernelspec": {
   "display_name": "Python 3 (ipykernel)",
   "language": "python",
   "name": "python3"
  },
  "language_info": {
   "codemirror_mode": {
    "name": "ipython",
    "version": 3
   },
   "file_extension": ".py",
   "mimetype": "text/x-python",
   "name": "python",
   "nbconvert_exporter": "python",
   "pygments_lexer": "ipython3",
   "version": "3.9.7"
  }
 },
 "nbformat": 4,
 "nbformat_minor": 5
}
